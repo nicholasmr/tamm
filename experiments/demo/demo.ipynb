{
 "cells": [
  {
   "cell_type": "markdown",
   "id": "98260361",
   "metadata": {},
   "source": [
    "# Introduction\n",
    "\n",
    "This notebook is a demonstration of how to use the general transfer matrix model by Rathmann et al. (2021) for modelling radar returns over ice columns with arbitrary crystal orientation fabric profiles.\n",
    "\n",
    "The model consists of vertically-stacked layers of anisotropic polycrystalline ice. Each layer is characterized by its bulk dielectric permittivity tensor\n",
    "$$ \n",
    "\\langle\\boldsymbol{\\epsilon}_{\\mathrm{g}}\\rangle = \\frac{2\\epsilon_\\perp+\\epsilon_\\parallel}{3}\\mathbf{I} \n",
    "+ (\\epsilon_\\parallel-\\epsilon_\\perp) \\left(\\langle\\mathbf{c}\\otimes\\mathbf{c}\\rangle - \\frac{1}{3}\\mathbf{I}\\right), \n",
    "$$\n",
    "where $\\epsilon_\\parallel$ and $\\epsilon_\\perp$ are the single-grain principal permittivities parallel and perpendicular to the grain optical $\\mathbf{c}$-axis, and $\\langle\\mathbf{c}\\otimes\\mathbf{c}\\rangle$ is the second-order structure tensor (a.k.a. orientation tensor, $\\mathbf{a}^{(2)}$). \n",
    "\n",
    "As a first step, the vertical profile of $\\langle\\mathbf{c}\\otimes\\mathbf{c}\\rangle$ must be specified.\n",
    "To get going, try out the below non-symmetric vertical single-maximum profile."
   ]
  },
  {
   "cell_type": "code",
   "execution_count": null,
   "id": "e60790ff",
   "metadata": {},
   "outputs": [],
   "source": [
    "import numpy as np\n",
    "import sys\n",
    "sys.path.insert(0, '../../lib') # Add model library path\n",
    "from layerstack import c2_to_nlm\n",
    "\n",
    "### Construct structure tensor profile\n",
    "\n",
    "H        = 1500 # Ice column thickness\n",
    "N_layers = 100  # Number of layers (for radar model below)\n",
    "\n",
    "z   = np.linspace(0,-H, N_layers) # Interface positions\n",
    "c2  = np.zeros((N_layers,3,3))    # Structure tensor. Note equivelent notations: c2 = <c^2> = a^(2)\n",
    "nlm = np.zeros((N_layers,6), dtype=np.complex128) # Spectral ODF coefficients corresponding to <c^2>\n",
    "\n",
    "lambdavec = np.linspace(1.5/3, 0.8, N_layers) # Principal eigen value (lambda_z) with depth\n",
    "deltavec  = np.linspace(0, 0.1, N_layers)     # Horizontal asymmetry\n",
    "c2[:,0,0] = 5/10*(1-lambdavec) + deltavec \n",
    "c2[:,1,1] = 5/10*(1-lambdavec) - deltavec\n",
    "c2[:,2,2] = lambdavec\n",
    "\n",
    "for ii in np.arange(N_layers):\n",
    "    nlm[ii,:], lm = c2_to_nlm(c2[ii,:,:]) # Convert <c^2> to spectral coefficients n_2^m\n",
    "\n",
    "nlm[0, 1:] = 0 # Ensure the top layer is isotropic (required by model)\n",
    "\n",
    "### Plot ODFs\n",
    "\n",
    "from plottools import plot_ODF\n",
    "\n",
    "for I in [1, int(N_layers/2), -1]:\n",
    "    plot_ODF(nlm[I,:], lm, tickintvl=4, cblabel=r'$\\psi(z=\\SI{%.1f}{\\kilo\\metre})$'%(z[I]*1e-3));\n"
   ]
  },
  {
   "cell_type": "markdown",
   "id": "eff849da",
   "metadata": {},
   "source": [
    "# Calculate radar returns\n",
    "\n",
    "To calculate the radar returns \n",
    "\n",
    "* $\\bar{P}_{jk}$          : Mean return power for Tx and Rx polarizations of $j=\\lbrace \\mathrm{H,V}\\rbrace$ and $k=\\lbrace \\mathrm{H,V}\\rbrace$, respectively\n",
    "* $\\delta{P}_{jk}$        : Angular power anomaly for Tx and Rx polarizations of $j=\\lbrace \\mathrm{H,V}\\rbrace$ and $k=\\lbrace \\mathrm{H,V}\\rbrace$, respectively\n",
    "* $\\varphi_{\\mathrm{HV}}$ : HH$-$VV Covariance phase angle\n",
    "\n",
    "given the above fabric profile, run:\n"
   ]
  },
  {
   "cell_type": "code",
   "execution_count": null,
   "id": "877d7a51",
   "metadata": {},
   "outputs": [],
   "source": [
    "import sys\n",
    "sys.path.insert(0, '../../lib') # Add model library path\n",
    "from layerstack import *\n",
    "from plottools import *\n",
    "\n",
    "### Setup layer stack\n",
    "\n",
    "N_frames = 50           # Number of horizontally rotated frames (beta) between 0 and Pi \n",
    "epsc     = 3.17         # Single grain permittivity parallel to c-axis\n",
    "epsa     = epsc - 0.034 # Single grain permittivity perpendicular to c-axis\n",
    "sigma    = 1e-5         # Isotropic macroscopic conductivity\n",
    "\n",
    "lstack = LayerStack(nlm, z, N_frames=N_frames, epsa=[epsa], epsc=[epsc], sigma=[sigma]) # Assumes constant epsa, epsc and sigma throughout the column if len()==1\n",
    "\n",
    "### Transmitted plane wave\n",
    "\n",
    "E0       = 1e3   # Tx E-field amplitude\n",
    "f        = 179e6 # Tx frequency in Hz\n",
    "alpha    = np.deg2rad(0) # Angle of incidence in radians (0 = normal incidence)\n",
    "\n",
    "returns = lstack.get_returns(E0, f=f, alpha=alpha) # returns = (Pm_HH,Pm_HV, dP_HH,dP_HV, c_HHVV, E_HH,E_HV)\n",
    "\n",
    "### Plot results\n",
    "\n",
    "(eigvals, e1,e2,e3, a2) = lstack.get_eigenbasis()\n",
    "\n",
    "(plt, *_) = plot_returns(lstack.z, returns, a2, eigvals);\n",
    "plt.show()"
   ]
  },
  {
   "cell_type": "code",
   "execution_count": null,
   "id": "5b668440",
   "metadata": {},
   "outputs": [],
   "source": []
  }
 ],
 "metadata": {
  "kernelspec": {
   "display_name": "Python 3 (ipykernel)",
   "language": "python",
   "name": "python3"
  },
  "language_info": {
   "codemirror_mode": {
    "name": "ipython",
    "version": 3
   },
   "file_extension": ".py",
   "mimetype": "text/x-python",
   "name": "python",
   "nbconvert_exporter": "python",
   "pygments_lexer": "ipython3",
   "version": "3.10.6"
  }
 },
 "nbformat": 4,
 "nbformat_minor": 5
}
